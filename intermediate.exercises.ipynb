{
 "cells": [
  {
   "cell_type": "markdown",
   "metadata": {},
   "source": [
    "# Zadania dla bloku Python Średniozaawansowany"
   ]
  },
  {
   "cell_type": "markdown",
   "metadata": {},
   "source": [
    "## Wyjątki"
   ]
  },
  {
   "cell_type": "markdown",
   "metadata": {},
   "source": [
    "#### Przechwyć wynik wyjątku i wypisz go z pomocą operacji `print`."
   ]
  },
  {
   "cell_type": "code",
   "execution_count": 4,
   "metadata": {},
   "outputs": [
    {
     "name": "stdout",
     "output_type": "stream",
     "text": [
      "Hah! You got me!\n"
     ]
    }
   ],
   "source": [
    "def raiseErr():\n",
    "    raise Exception(\"Hah! You got me!\")\n",
    "\n",
    "try:\n",
    "    raiseErr()\n",
    "except Exception as e:\n",
    "    print(e)\n",
    "\n"
   ]
  },
  {
   "attachments": {},
   "cell_type": "markdown",
   "metadata": {},
   "source": [
    "#### Stwórz funkcję `properDivide`, które przy dzieleniu przez $0$ nie wyrzuci wyjątku a zwróci `inf`. Funkcja wciąż powinna kończyć się poprawnym błędem gdy na przykład dzielimy $\\frac{0}{0}$."
   ]
  },
  {
   "cell_type": "code",
   "execution_count": 19,
   "metadata": {},
   "outputs": [
    {
     "name": "stdout",
     "output_type": "stream",
     "text": [
      "0.2\n",
      "inf\n"
     ]
    },
    {
     "ename": "TypeError",
     "evalue": "unsupported operand type(s) for /: 'list' and 'int'",
     "output_type": "error",
     "traceback": [
      "\u001b[1;31m---------------------------------------------------------------------------\u001b[0m",
      "\u001b[1;31mTypeError\u001b[0m                                 Traceback (most recent call last)",
      "Cell \u001b[1;32mIn[19], line 14\u001b[0m\n\u001b[0;32m     12\u001b[0m \u001b[39mprint\u001b[39m(properDivide(\u001b[39m1\u001b[39m, \u001b[39m5\u001b[39m))\n\u001b[0;32m     13\u001b[0m \u001b[39mprint\u001b[39m(properDivide(\u001b[39m12\u001b[39m, \u001b[39m0\u001b[39m))\n\u001b[1;32m---> 14\u001b[0m \u001b[39mprint\u001b[39m(properDivide([], \u001b[39m3\u001b[39;49m))  \n",
      "Cell \u001b[1;32mIn[19], line 6\u001b[0m, in \u001b[0;36mproperDivide\u001b[1;34m(a, b)\u001b[0m\n\u001b[0;32m      3\u001b[0m \u001b[39mdef\u001b[39;00m \u001b[39mproperDivide\u001b[39m(a: \u001b[39mfloat\u001b[39m, b: \u001b[39mfloat\u001b[39m):\n\u001b[0;32m      4\u001b[0m     \u001b[39mtry\u001b[39;00m:\n\u001b[0;32m      5\u001b[0m         \u001b[39m# result = a / b\u001b[39;00m\n\u001b[1;32m----> 6\u001b[0m         \u001b[39mreturn\u001b[39;00m a \u001b[39m/\u001b[39;49m b\n\u001b[0;32m      7\u001b[0m     \u001b[39mexcept\u001b[39;00m \u001b[39mZeroDivisionError\u001b[39;00m:\n\u001b[0;32m      8\u001b[0m         \u001b[39mreturn\u001b[39;00m inf\n",
      "\u001b[1;31mTypeError\u001b[0m: unsupported operand type(s) for /: 'list' and 'int'"
     ]
    }
   ],
   "source": [
    "from math import inf\n",
    "\n",
    "def properDivide(a: float, b: float):\n",
    "    try:\n",
    "        # result = a / b\n",
    "        return a / b\n",
    "    except ZeroDivisionError:\n",
    "        return inf\n",
    "        \n",
    "\n",
    "\n",
    "print(properDivide(1, 5))\n",
    "print(properDivide(12, 0))\n",
    "print(properDivide([], 3))  "
   ]
  },
  {
   "cell_type": "markdown",
   "metadata": {},
   "source": [
    "#### Stwórz klasę wyjątku `TimedException`, która, wraz z wiadomością, będzie przechowywała dane o czasie wystąpienia błędu. Skorzystaj z modułu [datetime](https://docs.python.org/3/library/datetime.html)."
   ]
  },
  {
   "cell_type": "code",
   "execution_count": null,
   "metadata": {},
   "outputs": [],
   "source": []
  },
  {
   "attachments": {},
   "cell_type": "markdown",
   "metadata": {},
   "source": [
    "#### Stwórz plik `dummy.file` i zapisz do niego liczby od $1$ do $10$, każdą w nowej linii. Wykorzystaj do tego manager kontekstu"
   ]
  },
  {
   "cell_type": "code",
   "execution_count": 8,
   "metadata": {},
   "outputs": [
    {
     "ename": "PermissionError",
     "evalue": "[WinError 32] Proces nie może uzyskać dostępu do pliku, ponieważ jest on używany przez inny proces: 'dummy.file'",
     "output_type": "error",
     "traceback": [
      "\u001b[1;31m---------------------------------------------------------------------------\u001b[0m",
      "\u001b[1;31mPermissionError\u001b[0m                           Traceback (most recent call last)",
      "Cell \u001b[1;32mIn[8], line 10\u001b[0m\n\u001b[0;32m      6\u001b[0m         \u001b[39m# f.write(str(i) + \"\\r\\n\")\u001b[39;00m\n\u001b[0;32m      9\u001b[0m \u001b[39mif\u001b[39;00m os\u001b[39m.\u001b[39mpath\u001b[39m.\u001b[39mexists(dummy_file):\n\u001b[1;32m---> 10\u001b[0m     os\u001b[39m.\u001b[39;49mremove(dummy_file)\n\u001b[0;32m     12\u001b[0m \u001b[39mwith\u001b[39;00m \u001b[39mopen\u001b[39m(dummy_file, \u001b[39m'\u001b[39m\u001b[39mr\u001b[39m\u001b[39m'\u001b[39m) \u001b[39mas\u001b[39;00m f:\n\u001b[0;32m     13\u001b[0m     \u001b[39mprint\u001b[39m(file\u001b[39m.\u001b[39mread())\n",
      "\u001b[1;31mPermissionError\u001b[0m: [WinError 32] Proces nie może uzyskać dostępu do pliku, ponieważ jest on używany przez inny proces: 'dummy.file'"
     ]
    }
   ],
   "source": [
    "dummy_file = \"dummy.file\"\n",
    "\n",
    "with open(\"dummy.file\", \"w\") as f:\n",
    "    for i in range(1, 11):\n",
    "        f.write(f\"{i}\\n\")\n",
    "        # f.write(str(i) + \"\\r\\n\")\n",
    "    \n",
    "\n",
    "if os.path.exists(dummy_file):\n",
    "    os.remove(dummy_file)\n",
    "\n",
    "with open(dummy_file, 'r') as f:\n",
    "    print(file.read())"
   ]
  },
  {
   "attachments": {},
   "cell_type": "markdown",
   "metadata": {},
   "source": [
    "#### Korzystając z pliku z poprzedniego zadania, wykorzystując manager kontekstu, dopisz pierwsze $20$ liczb Fibonacciego. Liczby te definiujemy jako\n",
    "\n",
    "$F_n = F_{n - 1} + F_{n - 2}$"
   ]
  },
  {
   "cell_type": "code",
   "execution_count": 12,
   "metadata": {},
   "outputs": [],
   "source": [
    "def fib(n):\n",
    "    a, b = 0, 1\n",
    "    for i in range(n):\n",
    "        a, b = b, a + b\n",
    "    return a\n",
    "\n",
    "with open(dummy_file, 'a') as f:\n",
    "    for i in range(20):\n",
    "        f.write(f'{fib(i)}\\n')\n",
    "    # f.writelines([f'{fib(i)}\\n' for i in range(20)])"
   ]
  },
  {
   "attachments": {},
   "cell_type": "markdown",
   "metadata": {},
   "source": [
    "#### Dopisz do pliku z poprzedniego zadania tekst \"`Ala ma kota`\". Odczytaj z tego pliku $50$ linii i wyświetl każdą jako liczbę zwiększoną o $1$. Wykorzystaj manager kontekstu. Linie, których nie można zinterpretować jako liczb, mają zostać pominięte z pomocą `try-except`."
   ]
  },
  {
   "cell_type": "code",
   "execution_count": 15,
   "metadata": {},
   "outputs": [],
   "source": [
    "import os\n",
    "\n",
    "with open(dummy_file, 'r') as f:\n",
    "    for i in range(50):\n",
    "        line = f.readline()\n",
    "        try:\n",
    "            print(int(f.read()) + 1)\n",
    "        except:\n",
    "            pass\n"
   ]
  },
  {
   "cell_type": "markdown",
   "metadata": {},
   "source": [
    "#### Napisz klasę `AutodestructingFile` która stworzy plik o lokalizacji zadanej w konstruktorze i pozwoli na zapisywanie i odczytywanie z owego pliku. Obiekt tej klasy, gdy użyty w ramach klauzuli `with`, ma usunąć automatycznie plik z dysku w momencie zakończenia działania, niezależnie od tego, czy klauzula zakończyła się poprawnie czy błędem. Należy zastąpić wszystkie wystąpienia `pass` odpowiednim kodem."
   ]
  },
  {
   "cell_type": "code",
   "execution_count": null,
   "metadata": {},
   "outputs": [],
   "source": [
    "import os\n",
    "from time import sleep\n",
    "\n",
    "class AutodestructingFile:\n",
    "    def __init__(self, address) -> None:\n",
    "        self.address = address\n",
    "\n",
    "    def write(self, text):\n",
    "        self.writer.write(text)\n",
    "        self.writer.flush()\n",
    "\n",
    "    def read(self):\n",
    "        return self.reader.read()\n",
    "\n",
    "    def __enter__(self):\n",
    "        self.writer = open(self.address, 'w')\n",
    "        self.reader = open(self.address, 'r')\n",
    "        return self\n",
    "\n",
    "    def __exit__(self, type, value, traceback):\n",
    "        if os.path.exists(self.address):\n",
    "            os.remove(self.address)\n",
    "\n",
    "\n",
    "dummy_file_name = \"dummy.file\"\n",
    "some_dummy_message = \"somedummymessage\"\n",
    "\n",
    "\n",
    "with AutodestructingFile(dummy_file_name) as file:\n",
    "    file.write(some_dummy_message)\n",
    "    print(file.read())\n",
    "\n",
    "    raise Exception(\"Dummy exception\")\n",
    "    print(\"This message should not be displayed\")"
   ]
  },
  {
   "cell_type": "markdown",
   "metadata": {},
   "source": [
    "## Programowanie obiektowe"
   ]
  },
  {
   "cell_type": "markdown",
   "metadata": {},
   "source": [
    "#### Wczytaj plik za pomocą `reader`, przetwórz treść za pomocą `converter` i zapisz do pliku za pomocą `writer`. Stwórz klasę `LUFileConverter`, która będzie konwertowała zadany plik zmieniając małe litery w wielkie i vice versa. Stwórz klasę `DoubleFileConverter`, która wykona operacje `converter` dwukrotnie.\n",
    "\n",
    "`convertFile` w `FileConverter` ma być metodą abstrakcyjną.\n",
    "`reader` ma posiadać operację `read()`, która zczyta obiekt typu `str` z pewnego pliku.\n",
    "`writer` ma posiadać operację `write()`, która zapisze do pewnego pliku zadany obiekt typu `str`.\n",
    "`converter` ma przyjąć obiekt typu `str` i zwrócić obiekt typu `str`.\n",
    "\n",
    "Skorzystaj z modułu [abc](https://docs.python.org/3/library/abc.html)."
   ]
  },
  {
   "cell_type": "code",
   "execution_count": null,
   "metadata": {},
   "outputs": [],
   "source": [
    "class FileConverter():\n",
    "    def __init__(self, reader, writer, converter) -> None:\n",
    "        self.reader = reader\n",
    "        self.writer = writer\n",
    "        self.converter = converter\n",
    "\n",
    "    def convertFile(self):\n",
    "        pass\n",
    "\n",
    "class UpperFileConverter(FileConverter):\n",
    "    pass\n",
    "\n",
    "class DoubleFileConverter(FileConverter):\n",
    "    pass"
   ]
  },
  {
   "cell_type": "code",
   "execution_count": null,
   "metadata": {},
   "outputs": [],
   "source": [
    "def doubleText(text):\n",
    "    return text + text\n",
    "\n",
    "in_file = \"dummy.txt\"\n",
    "out_file = \"temp.file\"\n",
    "\n",
    "with open(in_file, \"w\") as writer:\n",
    "    writer.write(\"Ala ma kota\\nA sierotka ma rysia\\n\\n\")\n",
    "\n",
    "with open(in_file, \"r\") as reader:\n",
    "    with open(out_file, \"w\") as writer:\n",
    "        fc = DoubleFileConverter(reader, writer, doubleText)\n",
    "        fc.convertFile()"
   ]
  },
  {
   "cell_type": "markdown",
   "metadata": {},
   "source": [
    "###### Komórka usuwająca stworzone w zadaniu pliki"
   ]
  },
  {
   "cell_type": "code",
   "execution_count": null,
   "metadata": {},
   "outputs": [],
   "source": [
    "if os.path.exists(in_file):\n",
    "    os.remove(in_file)\n",
    "if os.path.exists(out_file):\n",
    "    os.remove(out_file)"
   ]
  },
  {
   "attachments": {},
   "cell_type": "markdown",
   "metadata": {},
   "source": [
    "#### Napisz strukturę o trzech niemutowalnych polach, którą można posortować oraz przechowywać jako element zbioru. Skorzystaj z `dataclass`."
   ]
  },
  {
   "cell_type": "code",
   "execution_count": null,
   "metadata": {},
   "outputs": [],
   "source": [
    "class Triple:\n",
    "    pass\n",
    "\n",
    "print(sorted([Triple(1, 2, 3), Triple(2, 1, 19), Triple(1, 2, 1), Triple(1, 3, 2)]))\n",
    "print({Triple(1, 2, 3), Triple(2, 1, 19), Triple(1, 2, 1), Triple(1, 3, 2)})"
   ]
  },
  {
   "cell_type": "markdown",
   "metadata": {},
   "source": [
    "## Serializacja"
   ]
  },
  {
   "cell_type": "markdown",
   "metadata": {},
   "source": [
    "## Dekoratory"
   ]
  },
  {
   "cell_type": "markdown",
   "metadata": {},
   "source": [
    "#### Napisz dekorator `doubleResult`, który sprawi, że funkcja dekorowana zwróci wynik przemnożony przez $2$. Udekoruj nim funkcję `returnNumber`."
   ]
  },
  {
   "cell_type": "code",
   "execution_count": null,
   "metadata": {},
   "outputs": [],
   "source": [
    "from random import random\n",
    "\n",
    "number = random()\n",
    "\n",
    "def returnNumber():\n",
    "    return number\n",
    "\n",
    "assert returnNumber() == number * 2"
   ]
  },
  {
   "cell_type": "markdown",
   "metadata": {},
   "source": [
    "#### Napisz dekorator `multiplyResultBy` będący modyfikacją dekoratora z zadania powyżej. Niech `multiplyResultBy` przyjmuje jeden argument, którym będzie liczba, przez którą zostanie przemnożony wynik funkcji dekorowanej. Udekoruj nim funkcję `returnNumber`."
   ]
  },
  {
   "cell_type": "code",
   "execution_count": null,
   "metadata": {},
   "outputs": [],
   "source": [
    "from random import random\n",
    "\n",
    "number = random()\n",
    "n = random()\n",
    "\n",
    "def returnNumber():\n",
    "    return number\n",
    "\n",
    "assert returnNumber() == number * n"
   ]
  },
  {
   "cell_type": "markdown",
   "metadata": {},
   "source": [
    "#### Ponownie napisz dekorator `multiplyResultBy` o działaniu jak w zadaniu powyżej. Tym razem jednak niech dekorator ten będzie w stanie dekorować funkcje o dowolnej ilości parametrów. Udekoruj nim funkcję `multAddPrint`."
   ]
  },
  {
   "cell_type": "code",
   "execution_count": null,
   "metadata": {},
   "outputs": [],
   "source": [
    "from random import random\n",
    "\n",
    "number1, number2, number3 = random(), random(), random()\n",
    "text = \"I am working as intended\"\n",
    "n = random()\n",
    "\n",
    "def multAddPrint(number1, number2, number3, text):\n",
    "    print(text)\n",
    "    return number1 * number2 + number3\n",
    "\n",
    "assert multAddPrint(number1, number2, number3, text) == (number1 * number2 + number3) * n"
   ]
  },
  {
   "cell_type": "markdown",
   "metadata": {},
   "source": [
    "#### Napisz dekorator, który przechwyci wyjątek wyrzucany przez funkcję i wypisze jego wiadomość i ślad (traceback) na wyjściu konsoli (domyślnie wyjątki wypisują się na `stderr`, standardowe wyjście konsoli to `stdout`).\n",
    "\n",
    "Do zadania wykorzystaj pakiet [traceback](https://docs.python.org/3/library/traceback.html)."
   ]
  },
  {
   "cell_type": "code",
   "execution_count": null,
   "metadata": {},
   "outputs": [],
   "source": [
    "def captureError(func):\n",
    "    pass\n",
    "\n",
    "@captureError\n",
    "def function1():\n",
    "    def function2():\n",
    "        raise IndexError(\"Why index error? Just so\")\n",
    "    print(\"First print\")\n",
    "    function2()\n",
    "    print(\"Second print, should not be printed\")\n",
    "\n",
    "function1()\n",
    "print(\"This should be printed\")"
   ]
  },
  {
   "cell_type": "markdown",
   "metadata": {},
   "source": [
    "#### Napisz dekorator `encrypted`, który przyjmuje jako parametry adres pliku oraz funkcję szyfrującą a następnie zapisuje do tego pliku zaszyfrowany wynik funkcji."
   ]
  },
  {
   "cell_type": "code",
   "execution_count": null,
   "metadata": {},
   "outputs": [],
   "source": [
    "from random import shuffle\n",
    "import string\n",
    "\n",
    "basis = list(string.printable)\n",
    "permutation = list(basis)\n",
    "shuffle(permutation)\n",
    "\n",
    "dictionary = {}\n",
    "for i in range(len(basis)):\n",
    "    dictionary[basis[i]] = permutation[i]\n",
    "\n",
    "def encryptor(text):\n",
    "    return ''.join([dictionary[c] for c in text])"
   ]
  },
  {
   "cell_type": "code",
   "execution_count": null,
   "metadata": {},
   "outputs": [],
   "source": [
    "dummy_file_name = \"dummy.file\"\n",
    "\n",
    "\n",
    "# Apply the decorator here\n",
    "def strfunc():\n",
    "    return \"Ala ma kota\"\n",
    "\n",
    "strfunc()"
   ]
  },
  {
   "cell_type": "markdown",
   "metadata": {},
   "source": [
    "###### Komórka usuwająca stworzone w zadaniu pliki"
   ]
  },
  {
   "cell_type": "code",
   "execution_count": null,
   "metadata": {},
   "outputs": [],
   "source": [
    "if os.path.exists(dummy_file_name):\n",
    "    os.remove(dummy_file_name)"
   ]
  },
  {
   "cell_type": "markdown",
   "metadata": {},
   "source": [
    "#### Napisz powyższe zadanie, tym razem jednak dla funkcji, która przyjmuje argumenty"
   ]
  },
  {
   "cell_type": "code",
   "execution_count": null,
   "metadata": {},
   "outputs": [],
   "source": [
    "from random import shuffle\n",
    "import string\n",
    "\n",
    "basis = list(string.printable)\n",
    "permutation = list(basis)\n",
    "shuffle(permutation)\n",
    "\n",
    "dictionary = {}\n",
    "for i in range(len(basis)):\n",
    "    dictionary[basis[i]] = permutation[i]\n",
    "\n",
    "def encryptor(text):\n",
    "    return ''.join([dictionary[c] for c in text])"
   ]
  },
  {
   "cell_type": "code",
   "execution_count": null,
   "metadata": {},
   "outputs": [],
   "source": [
    "dummy_file_name = \"dummy.file\"\n",
    "\n",
    "\n",
    "# Apply the decorator here\n",
    "def strfunc(text, n):\n",
    "    return f\"My encrypted text is '{text}' and it should occure {n} times after this line\\n\" + \"\\n\".join([text] * n)\n",
    "\n",
    "strfunc(\"Ala ma kota\", 5)"
   ]
  },
  {
   "cell_type": "markdown",
   "metadata": {},
   "source": [
    "###### Komórka usuwająca stworzone w zadaniu pliki"
   ]
  },
  {
   "cell_type": "code",
   "execution_count": null,
   "metadata": {},
   "outputs": [],
   "source": [
    "if os.path.exists(dummy_file_name):\n",
    "    os.remove(dummy_file_name)"
   ]
  },
  {
   "attachments": {},
   "cell_type": "markdown",
   "metadata": {},
   "source": [
    "## Programowanie funkcjonałowe"
   ]
  },
  {
   "cell_type": "markdown",
   "metadata": {},
   "source": [
    "#### Posortuj listę tekstów po długościach tych tekstów."
   ]
  },
  {
   "cell_type": "code",
   "execution_count": null,
   "metadata": {},
   "outputs": [],
   "source": [
    "l = [\n",
    "    \"Ala ma kota\",\n",
    "    \"Kot ma Alę\",\n",
    "    \"Sierotka ma rysia\",\n",
    "    \"Sri Jayavardenepura Kotte\",\n",
    "    \"Ala ma kota a sierotka ma rysia\"]\n"
   ]
  },
  {
   "cell_type": "markdown",
   "metadata": {},
   "source": [
    "#### Posortuj listę tekstów alfabetycznie po literach od końca"
   ]
  },
  {
   "cell_type": "code",
   "execution_count": null,
   "metadata": {},
   "outputs": [],
   "source": [
    "l = [\n",
    "    \"Ala ma kota\",\n",
    "    \"Kot ma Alę\",\n",
    "    \"Sierotka ma rysia\",\n",
    "    \"Sri Jayavardenepura Kotte\",\n",
    "    \"Ala ma kota a sierotka ma rysia\"]\n"
   ]
  },
  {
   "cell_type": "markdown",
   "metadata": {},
   "source": [
    "#### Stwórz obiekt `map`, który będzie tworzył listę $10000$ losowych liczb. Skorzystaj z funkcji [random](https://docs.python.org/3/library/random.html#random.random) z biblioteki [random](https://docs.python.org/3/library/random.html). Nie korzystaj z pętli. Nie twórz tablicy."
   ]
  },
  {
   "cell_type": "code",
   "execution_count": null,
   "metadata": {},
   "outputs": [],
   "source": []
  },
  {
   "cell_type": "markdown",
   "metadata": {},
   "source": [
    "#### Stwórz $\\lambda$-wyrażenie, które, dla parametru `x`, wyznaczy $x^{17}\\mod 1001$. Stwórz listę takich wyników dla kolejnych $10000$ liczb naturalnych. Nie korzystaj z pętli."
   ]
  },
  {
   "cell_type": "code",
   "execution_count": null,
   "metadata": {},
   "outputs": [],
   "source": []
  },
  {
   "cell_type": "markdown",
   "metadata": {},
   "source": [
    "#### Dla wyniku z powyższego zadania policz, ile razy występuje liczba $13$. Nie korzystaj z pętli."
   ]
  },
  {
   "cell_type": "code",
   "execution_count": null,
   "metadata": {},
   "outputs": [],
   "source": []
  },
  {
   "cell_type": "markdown",
   "metadata": {},
   "source": [
    "#### Dla listy liczb weź te, dla których pierwszą cyfrą po przecinku jest $5$ lub $7$. Skorzystaj z obiektu `map` z zadania o tworzeniu listy liczb losowych. Nie korzystaj z pętli."
   ]
  },
  {
   "cell_type": "code",
   "execution_count": null,
   "metadata": {},
   "outputs": [],
   "source": []
  },
  {
   "attachments": {},
   "cell_type": "markdown",
   "metadata": {},
   "source": [
    "#### Stwórz analogiczną operację do [sum](https://docs.python.org/3/library/functions.html#sum) z pomocą [reduce](https://docs.python.org/3/library/functools.html#functools.reduce) z [functools](https://docs.python.org/3/library/functools.html)."
   ]
  },
  {
   "cell_type": "code",
   "execution_count": null,
   "metadata": {},
   "outputs": [],
   "source": [
    "from random import random\n",
    "\n",
    "l = [random() for i in range(100000)]\n",
    "from functools import reduce"
   ]
  },
  {
   "attachments": {},
   "cell_type": "markdown",
   "metadata": {},
   "source": [
    "#### Stwórz analogiczną operację do [any](https://docs.python.org/3/library/functions.html#any) z pomocą `reduce` z `functools`."
   ]
  },
  {
   "cell_type": "code",
   "execution_count": null,
   "metadata": {},
   "outputs": [],
   "source": []
  },
  {
   "attachments": {},
   "cell_type": "markdown",
   "metadata": {},
   "source": [
    "#### Stwórz analogiczną operację do [all](https://docs.python.org/3/library/functions.html#all) z pomocą `reduce` z `functools`."
   ]
  },
  {
   "cell_type": "code",
   "execution_count": null,
   "metadata": {},
   "outputs": [],
   "source": []
  },
  {
   "attachments": {},
   "cell_type": "markdown",
   "metadata": {},
   "source": [
    "## Generatory i iteratory"
   ]
  },
  {
   "attachments": {},
   "cell_type": "markdown",
   "metadata": {},
   "source": [
    "#### Stwórz nieskończony iterator po liczbach parzystych"
   ]
  },
  {
   "cell_type": "code",
   "execution_count": null,
   "metadata": {},
   "outputs": [],
   "source": [
    "class EvenIterator:\n",
    "    def __init__(self) -> None:\n",
    "        pass\n",
    "\n",
    "    def __iter__(self):\n",
    "        return self\n",
    "\n",
    "    def __next__(self):\n",
    "        return 0\n",
    "\n",
    "iter = EvenIterator()\n",
    "list(zip(range(200), iter))"
   ]
  },
  {
   "attachments": {},
   "cell_type": "markdown",
   "metadata": {},
   "source": [
    "#### Stwórz analogiczny generator"
   ]
  },
  {
   "cell_type": "code",
   "execution_count": null,
   "metadata": {},
   "outputs": [],
   "source": [
    "def f():\n",
    "    yield 0\n",
    "\n",
    "print([pair[1] for pair in zip(range(200), f())])"
   ]
  },
  {
   "attachments": {},
   "cell_type": "markdown",
   "metadata": {},
   "source": [
    "#### Stwórz iterator po liczbach parzystych przyjmujący jako argument ilość elementów."
   ]
  },
  {
   "cell_type": "code",
   "execution_count": null,
   "metadata": {},
   "outputs": [],
   "source": [
    "class EvenIterator:\n",
    "    def __init__(self, n) -> None:\n",
    "        pass\n",
    "\n",
    "    def __iter__(self):\n",
    "        return self\n",
    "\n",
    "    def __next__(self):\n",
    "        return 0\n",
    "\n",
    "iter = EvenIterator(200)\n",
    "print(list(iter))"
   ]
  },
  {
   "attachments": {},
   "cell_type": "markdown",
   "metadata": {},
   "source": [
    "#### Stwórz analogiczny generator"
   ]
  },
  {
   "cell_type": "code",
   "execution_count": null,
   "metadata": {},
   "outputs": [],
   "source": [
    "def f(n):\n",
    "    yield 0\n",
    "\n",
    "print(list(f(200)))"
   ]
  },
  {
   "attachments": {},
   "cell_type": "markdown",
   "metadata": {},
   "source": [
    "#### Stwórz iterator analogiczny do ciągu Fibonacciego, tym razem jednak ze wzorem\n",
    "\n",
    "$S_{n} = S_{n - 1} - S_{n - 2} + 2S_{n - 3}$\n",
    "\n",
    "Niech warunki początkowe to $S_0 = 0, S_1 = 1, S_2 = 1$"
   ]
  },
  {
   "cell_type": "code",
   "execution_count": null,
   "metadata": {},
   "outputs": [],
   "source": []
  },
  {
   "attachments": {},
   "cell_type": "markdown",
   "metadata": {},
   "source": [
    "#### Stwórz generator analogiczny do zadania powyżej."
   ]
  },
  {
   "cell_type": "code",
   "execution_count": null,
   "metadata": {},
   "outputs": [],
   "source": [
    "def sibonacci():\n",
    "    a, b, c = 0, 1, 1\n",
    "    while True:\n",
    "        yield a\n",
    "        a, b, c = b, c, 2 * a - b + c\n",
    "\n",
    "print([pair[1] for pair in zip(range(200), sibonacci())])"
   ]
  }
 ],
 "metadata": {
  "kernelspec": {
   "display_name": "Python 3",
   "language": "python",
   "name": "python3"
  },
  "language_info": {
   "codemirror_mode": {
    "name": "ipython",
    "version": 3
   },
   "file_extension": ".py",
   "mimetype": "text/x-python",
   "name": "python",
   "nbconvert_exporter": "python",
   "pygments_lexer": "ipython3",
   "version": "3.11.0 (main, Oct 24 2022, 18:26:48) [MSC v.1933 64 bit (AMD64)]"
  },
  "orig_nbformat": 4,
  "vscode": {
   "interpreter": {
    "hash": "8661966fb3bb74e932309220408949d69d80b705c466fc8e1685bdec7b49f675"
   }
  }
 },
 "nbformat": 4,
 "nbformat_minor": 2
}
